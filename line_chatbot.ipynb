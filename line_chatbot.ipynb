{
  "cells": [
    {
      "cell_type": "markdown",
      "metadata": {
        "id": "view-in-github",
        "colab_type": "text"
      },
      "source": [
        "<a href=\"https://colab.research.google.com/github/changcw2022/line_chatbot/blob/main/line_chatbot.ipynb\" target=\"_parent\"><img src=\"https://colab.research.google.com/assets/colab-badge.svg\" alt=\"Open In Colab\"/></a>"
      ]
    },
    {
      "cell_type": "code",
      "execution_count": 1,
      "metadata": {
        "colab": {
          "base_uri": "https://localhost:8080/"
        },
        "id": "kqdG2ga91ACj",
        "outputId": "25f50299-bf36-443e-f59e-31f900772421"
      },
      "outputs": [
        {
          "output_type": "stream",
          "name": "stdout",
          "text": [
            "Mounted at /content/drive\n"
          ]
        }
      ],
      "source": [
        "# 掛載google drive\n",
        "from google.colab import drive\n",
        "drive.mount('/content/drive')"
      ]
    },
    {
      "cell_type": "code",
      "execution_count": 2,
      "metadata": {
        "colab": {
          "base_uri": "https://localhost:8080/"
        },
        "id": "7eEvgRja1usj",
        "outputId": "bf155145-0e35-4cae-9d34-388c75f21eff"
      },
      "outputs": [
        {
          "output_type": "stream",
          "name": "stdout",
          "text": [
            "Looking in indexes: https://pypi.org/simple, https://us-python.pkg.dev/colab-wheels/public/simple/\n",
            "Collecting line-bot-sdk\n",
            "  Downloading line_bot_sdk-2.3.0-py2.py3-none-any.whl (88 kB)\n",
            "\u001b[K     |████████████████████████████████| 88 kB 3.7 MB/s \n",
            "\u001b[?25hRequirement already satisfied: flask in /usr/local/lib/python3.7/dist-packages (1.1.4)\n",
            "Collecting flask-ngrok\n",
            "  Downloading flask_ngrok-0.0.25-py3-none-any.whl (3.1 kB)\n",
            "Requirement already satisfied: aiohttp>=3.7.4 in /usr/local/lib/python3.7/dist-packages (from line-bot-sdk) (3.8.1)\n",
            "Requirement already satisfied: requests>=2.0 in /usr/local/lib/python3.7/dist-packages (from line-bot-sdk) (2.23.0)\n",
            "Requirement already satisfied: future in /usr/local/lib/python3.7/dist-packages (from line-bot-sdk) (0.16.0)\n",
            "Requirement already satisfied: frozenlist>=1.1.1 in /usr/local/lib/python3.7/dist-packages (from aiohttp>=3.7.4->line-bot-sdk) (1.3.1)\n",
            "Requirement already satisfied: attrs>=17.3.0 in /usr/local/lib/python3.7/dist-packages (from aiohttp>=3.7.4->line-bot-sdk) (22.1.0)\n",
            "Requirement already satisfied: async-timeout<5.0,>=4.0.0a3 in /usr/local/lib/python3.7/dist-packages (from aiohttp>=3.7.4->line-bot-sdk) (4.0.2)\n",
            "Requirement already satisfied: aiosignal>=1.1.2 in /usr/local/lib/python3.7/dist-packages (from aiohttp>=3.7.4->line-bot-sdk) (1.2.0)\n",
            "Requirement already satisfied: asynctest==0.13.0 in /usr/local/lib/python3.7/dist-packages (from aiohttp>=3.7.4->line-bot-sdk) (0.13.0)\n",
            "Requirement already satisfied: multidict<7.0,>=4.5 in /usr/local/lib/python3.7/dist-packages (from aiohttp>=3.7.4->line-bot-sdk) (6.0.2)\n",
            "Requirement already satisfied: typing-extensions>=3.7.4 in /usr/local/lib/python3.7/dist-packages (from aiohttp>=3.7.4->line-bot-sdk) (4.1.1)\n",
            "Requirement already satisfied: yarl<2.0,>=1.0 in /usr/local/lib/python3.7/dist-packages (from aiohttp>=3.7.4->line-bot-sdk) (1.8.1)\n",
            "Requirement already satisfied: charset-normalizer<3.0,>=2.0 in /usr/local/lib/python3.7/dist-packages (from aiohttp>=3.7.4->line-bot-sdk) (2.1.0)\n",
            "Requirement already satisfied: chardet<4,>=3.0.2 in /usr/local/lib/python3.7/dist-packages (from requests>=2.0->line-bot-sdk) (3.0.4)\n",
            "Requirement already satisfied: idna<3,>=2.5 in /usr/local/lib/python3.7/dist-packages (from requests>=2.0->line-bot-sdk) (2.10)\n",
            "Requirement already satisfied: certifi>=2017.4.17 in /usr/local/lib/python3.7/dist-packages (from requests>=2.0->line-bot-sdk) (2022.6.15)\n",
            "Requirement already satisfied: urllib3!=1.25.0,!=1.25.1,<1.26,>=1.21.1 in /usr/local/lib/python3.7/dist-packages (from requests>=2.0->line-bot-sdk) (1.24.3)\n",
            "Requirement already satisfied: click<8.0,>=5.1 in /usr/local/lib/python3.7/dist-packages (from flask) (7.1.2)\n",
            "Requirement already satisfied: Jinja2<3.0,>=2.10.1 in /usr/local/lib/python3.7/dist-packages (from flask) (2.11.3)\n",
            "Requirement already satisfied: Werkzeug<2.0,>=0.15 in /usr/local/lib/python3.7/dist-packages (from flask) (1.0.1)\n",
            "Requirement already satisfied: itsdangerous<2.0,>=0.24 in /usr/local/lib/python3.7/dist-packages (from flask) (1.1.0)\n",
            "Requirement already satisfied: MarkupSafe>=0.23 in /usr/local/lib/python3.7/dist-packages (from Jinja2<3.0,>=2.10.1->flask) (2.0.1)\n",
            "Installing collected packages: line-bot-sdk, flask-ngrok\n",
            "Successfully installed flask-ngrok-0.0.25 line-bot-sdk-2.3.0\n"
          ]
        }
      ],
      "source": [
        "# 安裝套件\n",
        "! pip install line-bot-sdk flask flask-ngrok"
      ]
    },
    {
      "cell_type": "code",
      "execution_count": 3,
      "metadata": {
        "id": "fibx456s1uyW"
      },
      "outputs": [],
      "source": [
        "# 引用套件\n",
        "from flask import Flask, request, abort, jsonify\n",
        "import json\n",
        "from flask_ngrok import run_with_ngrok\n",
        "from linebot import (LineBotApi, WebhookHandler)\n",
        "from linebot.exceptions import (InvalidSignatureError)"
      ]
    },
    {
      "cell_type": "code",
      "execution_count": 4,
      "metadata": {
        "id": "r9zflxPJ1u3F"
      },
      "outputs": [],
      "source": [
        "# 建置app主程序\n",
        "app = Flask(__name__, static_url_path = \"/material\", static_folder = \"./material/\")\n",
        "run_with_ngrok(app)\n",
        "\n",
        "line_bot_api = LineBotApi(\"QvLMuQywGLOlgbbWNaQNzjeb6+UJvn3T8TBFhfEb+AvWsU+SH0h3G3xk8xwJinz0rVakHW/gL8kQ4nfRsDwv2Qocuzp/Oz8+OpYtV+nFZYk1gbug5/Py+ZCXtHw3CHk9XD9SoTPEKYfd0ndxx3my7wdB04t89/1O/w1cDnyilFU=\")\n",
        "handler = WebhookHandler(\"1caa479b27857d0b6e7d6cd93c5322ba\")"
      ]
    },
    {
      "cell_type": "code",
      "execution_count": 5,
      "metadata": {
        "id": "dxjSA9mO1u8X"
      },
      "outputs": [],
      "source": [
        "# 建置主程序的api接口\n",
        "@app.route(\"/\", methods=['POST'])\n",
        "def callback():\n",
        "    signature = request.headers['X-Line-Signature']\n",
        "    body = request.get_data(as_text=True)\n",
        "    print(body)\n",
        "    \n",
        "    f = open(\"/content/drive/MyDrive/ai-event.log\", \"a\")\n",
        "    f.write(body)\n",
        "    f.close()\n",
        "\n",
        "    try:\n",
        "        handler.handle(body, signature)\n",
        "    except InvalidSignatureError:\n",
        "        abort(400)\n",
        "\n",
        "    return 'OK'\n"
      ]
    },
    {
      "cell_type": "code",
      "execution_count": 6,
      "metadata": {
        "id": "n_ER7Jf8DYZ0"
      },
      "outputs": [],
      "source": [
        "# 告知handler，收到FollowEvent，則作以下的處理方式\n",
        "# 1.儲存個資\n",
        "# 2.回覆訊息\n",
        "\n",
        "from linebot.models.events import FollowEvent\n",
        "from linebot.models import (TextSendMessage, ImageSendMessage)\n",
        "\n",
        "\n",
        "@handler.add(FollowEvent)\n",
        "def reply_text_and_get_user_profile(event):\n",
        "    user_profile = line_bot_api.get_profile(event.source.user_id)\n",
        "\n",
        "    with open(\"/content/drive/MyDrive/user.txt\", \"a\") as myfile:\n",
        "        myfile.write(json.dumps(vars(user_profile), sort_keys=True))\n",
        "        myfile.write('\\n')\n",
        "\n",
        "    reply_array=[]\n",
        "    reply_array.append(TextSendMessage('歡迎來到 好家在 yoga\\U0001F3E0\\n想學瑜珈，但不知從何開始，那你就來對地方啦\\U0001F60A\\n\\n我們提供入門瑜珈課程介紹，讓你在家也能輕鬆做瑜珈'))\n",
        "    reply_array.append(ImageSendMessage(original_content_url='https://pic.pimg.tw/yogiiilovestea/1636105025-3268922374-g_n.jpg',\n",
        "                                        preview_image_url='https://pic.pimg.tw/yogiiilovestea/1636105025-3268922374-g_n.jpg'))\n",
        "    reply_array.append(TextSendMessage('\\U0001F449請回覆：我要學瑜珈\\U0001F448\\n\\n讓我們一起開啟yoga之旅\\nNamaste!\\U0001F9D8 \\U0001F917'))\n",
        "\n",
        "    \n",
        "    line_bot_api.reply_message(\n",
        "        event.reply_token, reply_array\n",
        "    )"
      ]
    },
    {
      "cell_type": "code",
      "execution_count": 7,
      "metadata": {
        "id": "8e7KZnWnkXtZ"
      },
      "outputs": [],
      "source": [
        "# 創建quick reply buttons(快速回覆，按鈕按完就會消失)\n",
        "# 以QuickReply封裝該些按鈕\n",
        "# 製作TextSendMessage，放入剛封裝的QuickReply\n",
        "\n",
        "from linebot.models import TextSendMessage\n",
        "from linebot.models import (\n",
        "    MessageAction, URIAction,\n",
        "    PostbackAction, DatetimePickerAction,\n",
        "    CameraAction, CameraRollAction, LocationAction,\n",
        "    QuickReply, QuickReplyButton)\n",
        "\n",
        "\n",
        "quick_reply_text_send_message = TextSendMessage(text='請告訴我你想做哪一種瑜珈？',\n",
        "                                                quick_reply=QuickReply(\n",
        "    items=[\n",
        "        QuickReplyButton(\n",
        "            action=PostbackAction(\n",
        "            label='早晨yoga',\n",
        "            display_text='我想做早晨yoga，開啟美好的一天',\n",
        "            data='早起')),\n",
        "        QuickReplyButton(\n",
        "            action=PostbackAction(\n",
        "            label='擊退腰痠背痛',\n",
        "            display_text='我要擊退腰痠背痛，救救我的腰',\n",
        "            data='上班族')),\n",
        "        QuickReplyButton(\n",
        "            action=PostbackAction(\n",
        "            label='瘦小腹',\n",
        "            display_text='我想瘦小腹，躺著練腹肌',\n",
        "            data='凸肚')),\n",
        "        QuickReplyButton(\n",
        "            action=PostbackAction(\n",
        "            label='睡前yoga',\n",
        "            display_text='我想做睡前yoga，一覺到天亮',\n",
        "            data='晚睡')),\n",
        "        QuickReplyButton(\n",
        "            action=PostbackAction(\n",
        "            label='釋放負能量',\n",
        "            display_text='我需要釋放負能量，來個舒壓儀式',\n",
        "            data='壓力大')),\n",
        "        QuickReplyButton(\n",
        "            action=PostbackAction(\n",
        "            label='親子yoga',\n",
        "            display_text='我的小孩需要放電！！！',\n",
        "            data='親子'))\n",
        "    ]\n",
        "                                                )\n",
        ")"
      ]
    },
    {
      "cell_type": "code",
      "execution_count": 8,
      "metadata": {
        "id": "oEecF6SfQCPY"
      },
      "outputs": [],
      "source": [
        "# 創建Carousel Template(每個CarouselColumn限制3個actions)\n",
        "# 製作TemplateSendMessage，放入剛創建的template\n",
        "\n",
        "from linebot.models import (MessageEvent, TemplateSendMessage , PostbackEvent, MessageAction)\n",
        "from linebot.models.template import(ButtonsTemplate, CarouselTemplate, CarouselColumn)\n",
        "\n",
        "buttons_template_message = TemplateSendMessage(\n",
        "    alt_text='Carousel template',  \n",
        "    template=CarouselTemplate(\n",
        "        columns=[\n",
        "            CarouselColumn(\n",
        "                thumbnail_image_url='https://memegenerator.net/img/instances/58975815.jpg',\n",
        "                title='初學者',\n",
        "                text='請點擊下方選項選擇不同的瑜珈動作或介紹',\n",
        "                actions=[\n",
        "                   {\n",
        "                        \"type\": \"postback\",\n",
        "                        \"label\": \"下犬式\",\n",
        "                        \"text\": \"我想了解瑜珈動作：下犬式\",\n",
        "                        \"data\": \"beginner\"\n",
        "                    },\n",
        "                    {\n",
        "                        \"type\": \"postback\",\n",
        "                        \"label\": \"嬰兒式\",\n",
        "                        \"text\": \"我想了解瑜珈動作：嬰兒式\",\n",
        "                        \"data\": \"beginner\"\n",
        "                    },\n",
        "                    {\n",
        "                        \"type\": \"uri\",\n",
        "                        \"label\": \"更多介紹\",\n",
        "                        \"uri\":\"https://yas.io/hk/blog/lifestyle/%E7%91%9C%E7%8F%88%E5%88%9D%E5%AD%B8%E8%80%85%E6%8C%87%E5%8D%97-%E7%91%9C%E7%8F%88%E5%88%9D%E5%AD%B8%E5%8B%95%E4%BD%9C%E6%8E%A8%E8%96%A6/\"\n",
        "                    }\n",
        "                ]\n",
        "            ),\n",
        "            CarouselColumn(\n",
        "                thumbnail_image_url='https://i.chzbgr.com/full/9596945664/h9D1630D4/cat-yoga-advanced-course',\n",
        "                title='進階者',\n",
        "                text='請點擊下方選項選擇不同的瑜珈動作或介紹',\n",
        "                actions=[\n",
        "                    {\n",
        "                        \"type\": \"postback\",\n",
        "                        \"label\": \"輪式\",\n",
        "                        \"text\": \"我想了解瑜珈動作：輪式\",\n",
        "                        \"data\": \"advancer\"\n",
        "                    },\n",
        "                    {\n",
        "                        \"type\": \"postback\",\n",
        "                        \"label\": \"烏鴉式\",\n",
        "                        \"text\": \"我想了解瑜珈動作：烏鴉式\",\n",
        "                        \"data\": \"advancer\"\n",
        "                    },\n",
        "                    {\n",
        "                        \"type\": \"uri\",\n",
        "                        \"label\": \"瑜珈派別介紹\",\n",
        "                        \"uri\":\"https://www.havfit.com/fitness/2qni0jhe\"\n",
        "                    }\n",
        "                ]\n",
        "            )\n",
        "            ]\n",
        "        )\n",
        ")"
      ]
    },
    {
      "cell_type": "code",
      "execution_count": 9,
      "metadata": {
        "id": "BJC0jhEbyQN7"
      },
      "outputs": [],
      "source": [
        "practice_text_send_message = TextSendMessage(text=\"以下將隨機出現瑜珈動作，每日練習10分鐘，幫助伸展與放鬆身心\\n\\n你準備好了嗎？\\n\\n\\U0001F449準備好的話，請輸入：我準備好了\")"
      ]
    },
    {
      "cell_type": "code",
      "execution_count": 10,
      "metadata": {
        "id": "8HjgeI4Cz9lx"
      },
      "outputs": [],
      "source": [
        "import random\n",
        "original_content_url_list=[]\n",
        "preview_image_url_list=[]\n",
        "\n",
        "original_content={\n",
        "    0:'https://pic.pimg.tw/yogiiilovestea/1636104962-1701745454-g_n.jpg',\n",
        "    1:'https://pic.pimg.tw/yogiiilovestea/1636104962-1321811858-g_n.jpg',\n",
        "    2:'https://img-9gag-fun.9cache.com/photo/aW6y0Zq_700bwp.webp'\n",
        "    }\n",
        "\n",
        "preview_image={\n",
        "    0:'https://pic.pimg.tw/yogiiilovestea/1636104962-1701745454-g_n.jpg',\n",
        "    1:'https://pic.pimg.tw/yogiiilovestea/1636104962-1321811858-g_n.jpg',\n",
        "    2:'https://img-9gag-fun.9cache.com/photo/aW6y0Zq_700bwp.webp'\n",
        "    }\n",
        "\n",
        "i = random.randint(0,3)\n",
        "original_content_url_list.append(original_content[2])\n",
        "preview_image_url_list.append(original_content[2])\n",
        "\n",
        "\n",
        "practice_img_send_message = ImageSendMessage(\n",
        "    original_content_url=original_content_url_list[0],\n",
        "    preview_image_url=preview_image_url_list[0]\n",
        ")"
      ]
    },
    {
      "cell_type": "code",
      "execution_count": 11,
      "metadata": {
        "id": "Xwjzybvrk7bl"
      },
      "outputs": [],
      "source": [
        "# 設計字典，當用戶輸入相對應的消息時，會觸發相對的反應\n",
        "\n",
        "from linebot.models import (MessageEvent, TextMessage, TextSendMessage, ImageSendMessage, VideoSendMessage)\n",
        "\n",
        "template_message_dict = {\n",
        "    '我要學瑜珈':quick_reply_text_send_message,\n",
        "    '動作':buttons_template_message,\n",
        "    '挑戰':practice_text_send_message,\n",
        "    \"我準備好了\":practice_img_send_message\n",
        "}"
      ]
    },
    {
      "cell_type": "code",
      "execution_count": 12,
      "metadata": {
        "id": "3-fGg-IhlbUc"
      },
      "outputs": [],
      "source": [
        "# 當handler收到PostbackEvent，會執行以下的處理方式\n",
        "from linebot.models import PostbackEvent\n",
        "\n",
        "@handler.add(PostbackEvent)\n",
        "def handle_post_message(event):\n",
        "    user_profile=line_bot_api.get_profile(event.source.user_id)\n",
        "    if (event.postback.data.find('早起')==0):\n",
        "        with open('user_profile_morning_bird.txt', 'a') as myfile:\n",
        "            myfile.write(json.dumps(vars(user_profile), sort_keys=True))\n",
        "            myfile.write('\\n')\n",
        "            reply_array=[]\n",
        "            reply_array.append(TextSendMessage('https://www.youtube.com/watch?v=E-H_WuIAR7I'))\n",
        "            reply_array.append(TextSendMessage('希望你喜歡這部影片\\U0001F60A\\n\\n\\U0001F449若要學其他種瑜珈，請重新輸入：我要學瑜珈\\n\\n\\U0001F449瑜珈動作介紹，請輸入：動作\\n\\n\\U0001F449參加每日瑜珈小挑戰，請輸入：挑戰'))\n",
        "            line_bot_api.reply_message(\n",
        "                event.reply_token,reply_array\n",
        "            )\n",
        "    elif (event.postback.data.find('上班族')==0):\n",
        "        with open('user_profile_officer.txt', 'a') as myfile:\n",
        "            myfile.write(json.dumps(vars(user_profile), sort_keys=True))\n",
        "            myfile.write('\\n')\n",
        "            reply_array=[]\n",
        "            reply_array.append(TextSendMessage('https://www.youtube.com/watch?v=B6azLlYhUuI'))\n",
        "            reply_array.append(TextSendMessage('希望你喜歡這部影片\\U0001F60A\\n\\n\\U0001F449若要學其他種瑜珈，請重新輸入：我要學瑜珈\\n\\n\\U0001F449瑜珈動作介紹，請輸入：動作\\n\\n\\U0001F449參加每日瑜珈小挑戰，請輸入：挑戰'))\n",
        "            line_bot_api.reply_message(\n",
        "                event.reply_token,reply_array\n",
        "            )\n",
        "    elif (event.postback.data.find('凸肚')==0):\n",
        "        with open('user_profile_fat.txt', 'a') as myfile:\n",
        "            myfile.write(json.dumps(vars(user_profile), sort_keys=True))\n",
        "            myfile.write('\\n')\n",
        "            reply_array=[]\n",
        "            reply_array.append(TextSendMessage('https://www.youtube.com/watch?v=_4vjR9pCGqg'))\n",
        "            reply_array.append(TextSendMessage('希望你喜歡這部影片\\U0001F60A\\n\\n\\U0001F449若要學其他種瑜珈，請重新輸入：我要學瑜珈\\n\\n\\U0001F449瑜珈動作介紹，請輸入：動作\\n\\n\\U0001F449參加每日瑜珈小挑戰，請輸入：挑戰'))\n",
        "            line_bot_api.reply_message(\n",
        "                event.reply_token,reply_array\n",
        "            )\n",
        "    elif (event.postback.data.find('晚睡')==0):\n",
        "        with open('user_profile_night_owal.txt', 'a') as myfile:\n",
        "            myfile.write(json.dumps(vars(user_profile), sort_keys=True))\n",
        "            myfile.write('\\n')\n",
        "            reply_array=[]\n",
        "            reply_array.append(TextSendMessage('https://www.youtube.com/watch?v=s5Za2RHBUuk'))\n",
        "            reply_array.append(TextSendMessage('希望你喜歡這部影片\\U0001F60A\\n\\n\\U0001F449若要學其他種瑜珈，請重新輸入：我要學瑜珈\\n\\n\\U0001F449瑜珈動作介紹，請輸入：動作\\n\\n\\U0001F449參加每日瑜珈小挑戰，請輸入：挑戰'))\n",
        "            line_bot_api.reply_message(\n",
        "                event.reply_token,reply_array\n",
        "            )\n",
        "    elif (event.postback.data.find('壓力大')==0):\n",
        "        with open('user_profile_pressure', 'a') as myfile:\n",
        "            myfile.write(json.dumps(vars(user_profile), sort_keys=True))\n",
        "            myfile.write('\\n')\n",
        "            reply_array=[]\n",
        "            reply_array.append(TextSendMessage('https://www.youtube.com/watch?v=VnWhDrk0ggI'))\n",
        "            reply_array.append(TextSendMessage('希望你喜歡這部影片\\U0001F60A\\n\\n\\U0001F449若要學其他種瑜珈，請重新輸入：我要學瑜珈\\n\\n\\U0001F449瑜珈動作介紹，請輸入：動作\\n\\n\\U0001F449參加每日瑜珈小挑戰，請輸入：挑戰'))\n",
        "            line_bot_api.reply_message(\n",
        "                event.reply_token,reply_array\n",
        "            )\n",
        "    elif (event.postback.data.find('親子')==0):\n",
        "        with open('user_profile_kids.txt', 'a') as myfile:\n",
        "            myfile.write(json.dumps(vars(user_profile), sort_keys=True))\n",
        "            myfile.write('\\n')\n",
        "            reply_array=[]\n",
        "            reply_array.append(TextSendMessage('https://www.youtube.com/watch?v=_17BkaO62BU'))\n",
        "            reply_array.append(TextSendMessage('希望你喜歡這部影片\\U0001F60A\\n\\n\\U0001F449若要學其他種瑜珈，請重新輸入：我要學瑜珈\\n\\n\\U0001F449瑜珈動作介紹，請輸入：動作\\n\\n\\U0001F449參加每日瑜珈小挑戰，請輸入：挑戰'))\n",
        "            line_bot_api.reply_message(\n",
        "                event.reply_token,reply_array\n",
        "            )\n",
        "    else:\n",
        "        pass"
      ]
    },
    {
      "cell_type": "code",
      "execution_count": 13,
      "metadata": {
        "id": "uMuasMhxrTjY"
      },
      "outputs": [],
      "source": [
        "# 當handler收到MessageEvent，會執行以下的處理方式\n",
        "\n",
        "@handler.add(MessageEvent, message=TextMessage)\n",
        "def handle_message(event):\n",
        "    if(event.message.text.find('我要學瑜珈')==0):\n",
        "        line_bot_api.reply_message(\n",
        "            event.reply_token,\n",
        "            template_message_dict.get(event.message.text)\n",
        "        )\n",
        "    elif (event.message.text.find('動作')==0):\n",
        "        line_bot_api.reply_message(\n",
        "            event.reply_token,\n",
        "            template_message_dict.get(event.message.text)\n",
        "        )\n",
        "    elif (event.message.text.find('我想了解瑜珈動作：嬰兒式')==0):\n",
        "        line_bot_api.reply_message(\n",
        "            event.reply_token,\n",
        "            ImageSendMessage(original_content_url='https://www.verywellfit.com/thmb/Hz9tPl8mmSk3c3s-UbBgeO6cRBg=/500x350/filters:no_upscale():max_bytes(150000):strip_icc()/ChildsPose_annotated-3bdcd72451e84925af5a9fe8118935ed.jpg',\n",
        "                            preview_image_url='https://www.verywellfit.com/thmb/Hz9tPl8mmSk3c3s-UbBgeO6cRBg=/500x350/filters:no_upscale():max_bytes(150000):strip_icc()/ChildsPose_annotated-3bdcd72451e84925af5a9fe8118935ed.jpg')\n",
        "        )\n",
        "    elif (event.message.text.find('我想了解瑜珈動作：下犬式')==0):\n",
        "        line_bot_api.reply_message(\n",
        "            event.reply_token,\n",
        "            ImageSendMessage(original_content_url='https://www.verywellfit.com/thmb/i__eYpZwxa1meCPELijVi9a7460=/614x0/filters:no_upscale():max_bytes(150000):strip_icc():format(webp)/DownwardFacingDogAdhoMukahSvanasana_annotated2-918a8568b3af49d2add6d1949797a20f.jpg',\n",
        "                            preview_image_url='https://www.verywellfit.com/thmb/i__eYpZwxa1meCPELijVi9a7460=/614x0/filters:no_upscale():max_bytes(150000):strip_icc():format(webp)/DownwardFacingDogAdhoMukahSvanasana_annotated2-918a8568b3af49d2add6d1949797a20f.jpg')\n",
        "            \n",
        "        )     \n",
        "    elif (event.message.text.find('我想了解瑜珈動作：輪式')==0):\n",
        "        line_bot_api.reply_message(\n",
        "            event.reply_token,\n",
        "            ImageSendMessage(original_content_url='https://www.verywellfit.com/thmb/MLJRHg0oA6hWaSjU7KxFBX6P6qQ=/800x0/filters:no_upscale():max_bytes(150000):strip_icc():format(webp)/55-3567138-WheelPose-004-b768aa1db0ff4ba99e01947e2ffb5b84.jpg',\n",
        "                            preview_image_url='https://www.verywellfit.com/thmb/MLJRHg0oA6hWaSjU7KxFBX6P6qQ=/800x0/filters:no_upscale():max_bytes(150000):strip_icc():format(webp)/55-3567138-WheelPose-004-b768aa1db0ff4ba99e01947e2ffb5b84.jpg')   \n",
        "        )\n",
        "    elif (event.message.text.find('我想了解瑜珈動作：烏鴉式')==0):\n",
        "        line_bot_api.reply_message(\n",
        "            event.reply_token,\n",
        "            ImageSendMessage(original_content_url='https://www.yogajournal.com/wp-content/uploads/2015/08/erin_motz_crow_pose.jpg?crop=535:301&width=1070&enable=upscale',\n",
        "                            preview_image_url='https://www.yogajournal.com/wp-content/uploads/2015/08/erin_motz_crow_pose.jpg?crop=535:301&width=1070&enable=upscale')       \n",
        "        )\n",
        "    elif (event.message.text.find('挑戰')==0):\n",
        "        line_bot_api.reply_message(\n",
        "            event.reply_token,\n",
        "            template_message_dict.get(event.message.text)    \n",
        "        )\n",
        "    elif (event.message.text.find(\"我準備好了\")==0):\n",
        "        line_bot_api.reply_message(\n",
        "            event.reply_token,\n",
        "            template_message_dict.get(event.message.text)    \n",
        "        )\n",
        "    else:\n",
        "        line_bot_api.reply_message(\n",
        "            event.reply_token,\n",
        "            TextSendMessage(text='瑜珈教學，請輸入：我要學瑜珈\\n\\n瑜珈動作介紹，請輸入：動作\\n\\n參加每日瑜珈小挑戰，請輸入：挑戰')\n",
        "        )"
      ]
    },
    {
      "cell_type": "code",
      "execution_count": null,
      "metadata": {
        "colab": {
          "background_save": true,
          "base_uri": "https://localhost:8080/"
        },
        "id": "EgmX05ddGjae",
        "outputId": "7b340d68-4550-4eef-ac8b-81e8cf6d4de9"
      },
      "outputs": [
        {
          "output_type": "stream",
          "name": "stdout",
          "text": [
            " * Serving Flask app \"__main__\" (lazy loading)\n",
            " * Environment: production\n",
            "\u001b[31m   WARNING: This is a development server. Do not use it in a production deployment.\u001b[0m\n",
            "\u001b[2m   Use a production WSGI server instead.\u001b[0m\n",
            " * Debug mode: off\n"
          ]
        },
        {
          "output_type": "stream",
          "name": "stderr",
          "text": [
            "INFO:werkzeug: * Running on http://127.0.0.1:5000/ (Press CTRL+C to quit)\n"
          ]
        },
        {
          "output_type": "stream",
          "name": "stdout",
          "text": [
            " * Running on http://bdb8-34-74-251-210.ngrok.io\n",
            " * Traffic stats available on http://127.0.0.1:4040\n",
            "{\"destination\":\"U284954882fe05853b905769805e4bef5\",\"events\":[{\"type\":\"unfollow\",\"webhookEventId\":\"01GBM4GZNF5WET5CEP5W0BVPHK\",\"deliveryContext\":{\"isRedelivery\":false},\"timestamp\":1661754441198,\"source\":{\"type\":\"user\",\"userId\":\"U0caf4a65703ad0276464f072b0f13c47\"},\"mode\":\"active\"}]}\n"
          ]
        },
        {
          "output_type": "stream",
          "name": "stderr",
          "text": [
            "INFO:werkzeug:127.0.0.1 - - [29/Aug/2022 06:27:22] \"\u001b[37mPOST / HTTP/1.1\u001b[0m\" 200 -\n"
          ]
        },
        {
          "output_type": "stream",
          "name": "stdout",
          "text": [
            "{\"destination\":\"U284954882fe05853b905769805e4bef5\",\"events\":[{\"type\":\"follow\",\"webhookEventId\":\"01GBM4H1GQGTDGKZJAPT9REC80\",\"deliveryContext\":{\"isRedelivery\":false},\"timestamp\":1661754443065,\"source\":{\"type\":\"user\",\"userId\":\"U0caf4a65703ad0276464f072b0f13c47\"},\"replyToken\":\"c5b1d1473de6465899e355eb468c60ee\",\"mode\":\"active\"}]}\n"
          ]
        },
        {
          "output_type": "stream",
          "name": "stderr",
          "text": [
            "INFO:werkzeug:127.0.0.1 - - [29/Aug/2022 06:27:24] \"\u001b[37mPOST / HTTP/1.1\u001b[0m\" 200 -\n"
          ]
        },
        {
          "output_type": "stream",
          "name": "stdout",
          "text": [
            "{\"destination\":\"U284954882fe05853b905769805e4bef5\",\"events\":[{\"type\":\"message\",\"message\":{\"type\":\"text\",\"id\":\"16689622113081\",\"text\":\"我要學瑜珈\"},\"webhookEventId\":\"01GBM4HCG1WDCE9D7QRGQFE2K8\",\"deliveryContext\":{\"isRedelivery\":false},\"timestamp\":1661754454015,\"source\":{\"type\":\"user\",\"userId\":\"U0caf4a65703ad0276464f072b0f13c47\"},\"replyToken\":\"7e9515a92cd042389431b4d9c65b2911\",\"mode\":\"active\"}]}\n"
          ]
        },
        {
          "output_type": "stream",
          "name": "stderr",
          "text": [
            "INFO:werkzeug:127.0.0.1 - - [29/Aug/2022 06:27:35] \"\u001b[37mPOST / HTTP/1.1\u001b[0m\" 200 -\n"
          ]
        },
        {
          "output_type": "stream",
          "name": "stdout",
          "text": [
            "{\"destination\":\"U284954882fe05853b905769805e4bef5\",\"events\":[{\"type\":\"postback\",\"postback\":{\"data\":\"凸肚\"},\"webhookEventId\":\"01GBM4HGDHMQ3JT0S0MMBFYJRS\",\"deliveryContext\":{\"isRedelivery\":false},\"timestamp\":1661754458238,\"source\":{\"type\":\"user\",\"userId\":\"U0caf4a65703ad0276464f072b0f13c47\"},\"replyToken\":\"2a645cb0fb1a43beba85142f6e39e32f\",\"mode\":\"active\"}]}\n"
          ]
        },
        {
          "output_type": "stream",
          "name": "stderr",
          "text": [
            "INFO:werkzeug:127.0.0.1 - - [29/Aug/2022 06:27:39] \"\u001b[37mPOST / HTTP/1.1\u001b[0m\" 200 -\n"
          ]
        },
        {
          "output_type": "stream",
          "name": "stdout",
          "text": [
            "{\"destination\":\"U284954882fe05853b905769805e4bef5\",\"events\":[{\"type\":\"message\",\"message\":{\"type\":\"text\",\"id\":\"16689623747561\",\"text\":\"挑戰\"},\"webhookEventId\":\"01GBM4J1Y76FYGG1XVW2541W92\",\"deliveryContext\":{\"isRedelivery\":false},\"timestamp\":1661754476347,\"source\":{\"type\":\"user\",\"userId\":\"U0caf4a65703ad0276464f072b0f13c47\"},\"replyToken\":\"188cee94b5c041b49d3442481de5bc0e\",\"mode\":\"active\"}]}\n"
          ]
        },
        {
          "output_type": "stream",
          "name": "stderr",
          "text": [
            "INFO:werkzeug:127.0.0.1 - - [29/Aug/2022 06:27:57] \"\u001b[37mPOST / HTTP/1.1\u001b[0m\" 200 -\n"
          ]
        }
      ],
      "source": [
        "app.run()"
      ]
    },
    {
      "cell_type": "code",
      "execution_count": null,
      "metadata": {
        "id": "cFLsJzS5DZDq"
      },
      "outputs": [],
      "source": []
    }
  ],
  "metadata": {
    "colab": {
      "collapsed_sections": [],
      "name": "line_chatbot",
      "provenance": [],
      "authorship_tag": "ABX9TyPIwcT35EWwgo8s3r5k3QF2",
      "include_colab_link": true
    },
    "kernelspec": {
      "display_name": "Python 3",
      "name": "python3"
    },
    "language_info": {
      "name": "python"
    }
  },
  "nbformat": 4,
  "nbformat_minor": 0
}